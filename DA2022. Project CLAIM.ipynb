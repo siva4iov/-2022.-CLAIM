{
  "cells": [
    {
      "cell_type": "markdown",
      "metadata": {
        "id": "view-in-github",
        "colab_type": "text"
      },
      "source": [
        "<a href=\"https://colab.research.google.com/github/siva4iov/-2022.-CLAIM/blob/master/DA2022.%20Project%20CLAIM.ipynb\" target=\"_parent\"><img src=\"https://colab.research.google.com/assets/colab-badge.svg\" alt=\"Open In Colab\"/></a>"
      ]
    },
    {
      "cell_type": "markdown",
      "source": [
        "Набор данных CLAIM содержит информацию страховой компании о деятельности в сфере автострахования – 10300 строк (количество страховых полисов) и 23 переменные:\n",
        "* `ID` -  идентификатор страхового полиса\n",
        "* `Age` – возраст автовладельца\n",
        "* `Сhildren` – количество детей\n",
        "* `Сhildren drive` - количество детей с правами\n",
        "* `Incom` – доход\n",
        "* `YOJ` – стаж работы автовладельца\n",
        "* `Gender` – пол\n",
        "* `Job` - профессия \n",
        "* `Edu_level` -  уровень образования\n",
        "* `Distance` – расстояние от дома до работы страхователя\n",
        "* `Car_use` -  для какой цели используется автомобиль (по работе или для личных нужд)\n",
        "* `Vehicle_value` – стоимость автомобиля\n",
        "* `Vehicle_type` – тип автомобиля\n",
        "* `Vehicle_age` – возраст автомобиля\n",
        "* `Clm_freq` -  количество обращений по страховому случаю за последние 10 лет\n",
        "* `Revoked` –  лишение прав за последние 10 лет\n",
        "* `MVR_PTC` – количество штрафов автовладельца за последние 10 лет\n",
        "* `Status` – семейное положение страхователя\n",
        "* `Area` – тип населенного пункта, в котором проживает страхователь\n",
        "* `House_value` -  стоимость дома\n",
        "* `State_code` -  название города\n",
        "* `Claim_IND` – бинарная переменная (факт обращения по страховому случаю) \n",
        "* `Claim_amount` –  сумма, выплаченная по страховому случаю"
      ],
      "metadata": {
        "id": "JX5Yrp3ZD_Qd"
      },
      "id": "JX5Yrp3ZD_Qd"
    },
    {
      "cell_type": "code",
      "execution_count": null,
      "id": "282858f8",
      "metadata": {
        "pycharm": {
          "name": "#%%\n"
        },
        "id": "282858f8"
      },
      "outputs": [],
      "source": [
        "import pandas as pd \n",
        "import numpy as np\n",
        "import matplotlib.pyplot as plt\n",
        "import seaborn as sns"
      ]
    },
    {
      "cell_type": "code",
      "execution_count": null,
      "id": "7a7ffba0",
      "metadata": {
        "id": "7a7ffba0"
      },
      "outputs": [],
      "source": [
        "df = pd.read_csv(\"claim_.csv\", index_col=0)"
      ]
    },
    {
      "cell_type": "code",
      "execution_count": null,
      "id": "fbde8129",
      "metadata": {
        "scrolled": true,
        "id": "fbde8129",
        "outputId": "04fe5ebf-d2f9-465f-a6d9-8d973e7086a3"
      },
      "outputs": [
        {
          "data": {
            "text/html": [
              "<div>\n",
              "<style scoped>\n",
              "    .dataframe tbody tr th:only-of-type {\n",
              "        vertical-align: middle;\n",
              "    }\n",
              "\n",
              "    .dataframe tbody tr th {\n",
              "        vertical-align: top;\n",
              "    }\n",
              "\n",
              "    .dataframe thead th {\n",
              "        text-align: right;\n",
              "    }\n",
              "</style>\n",
              "<table border=\"1\" class=\"dataframe\">\n",
              "  <thead>\n",
              "    <tr style=\"text-align: right;\">\n",
              "      <th></th>\n",
              "      <th>ID</th>\n",
              "      <th>CHILD_DRIV</th>\n",
              "      <th>AGE</th>\n",
              "      <th>CHILDREN</th>\n",
              "      <th>YOJ</th>\n",
              "      <th>INCOME</th>\n",
              "      <th>HOUSE_VAL</th>\n",
              "      <th>STATUS</th>\n",
              "      <th>GENDER</th>\n",
              "      <th>EDU_LEVEL</th>\n",
              "      <th>...</th>\n",
              "      <th>VEHICLE_VAL</th>\n",
              "      <th>VEHICLE_TYPE</th>\n",
              "      <th>CLM_FREQ</th>\n",
              "      <th>REVOKED</th>\n",
              "      <th>MVR_PTS</th>\n",
              "      <th>CLAIM_AMOUNT</th>\n",
              "      <th>VEHICLE_AGE</th>\n",
              "      <th>CLAIM_IND</th>\n",
              "      <th>AREA</th>\n",
              "      <th>STATE_CODE</th>\n",
              "    </tr>\n",
              "  </thead>\n",
              "  <tbody>\n",
              "    <tr>\n",
              "      <th>0</th>\n",
              "      <td>6.921625e+09</td>\n",
              "      <td>0</td>\n",
              "      <td>67.0</td>\n",
              "      <td>0</td>\n",
              "      <td>14.0</td>\n",
              "      <td>53.841</td>\n",
              "      <td>359229.0</td>\n",
              "      <td>z_No</td>\n",
              "      <td>Mal</td>\n",
              "      <td>Bachelors</td>\n",
              "      <td>...</td>\n",
              "      <td>21.97</td>\n",
              "      <td>Family</td>\n",
              "      <td>0</td>\n",
              "      <td>No</td>\n",
              "      <td>2</td>\n",
              "      <td>294.000</td>\n",
              "      <td>12.0</td>\n",
              "      <td>0</td>\n",
              "      <td>Highly Urban/ Urban</td>\n",
              "      <td>Berlin</td>\n",
              "    </tr>\n",
              "    <tr>\n",
              "      <th>1</th>\n",
              "      <td>1.227899e+09</td>\n",
              "      <td>0</td>\n",
              "      <td>26.0</td>\n",
              "      <td>1</td>\n",
              "      <td>13.0</td>\n",
              "      <td>16.999</td>\n",
              "      <td>265527.0</td>\n",
              "      <td>NaN</td>\n",
              "      <td>Fem</td>\n",
              "      <td>z_High School</td>\n",
              "      <td>...</td>\n",
              "      <td>4.01</td>\n",
              "      <td>unknown</td>\n",
              "      <td>4</td>\n",
              "      <td>No</td>\n",
              "      <td>7</td>\n",
              "      <td>292.000</td>\n",
              "      <td>12.0</td>\n",
              "      <td>0</td>\n",
              "      <td>Highly Urban/ Urban</td>\n",
              "      <td>Thueringen</td>\n",
              "    </tr>\n",
              "    <tr>\n",
              "      <th>2</th>\n",
              "      <td>1.950524e+09</td>\n",
              "      <td>0</td>\n",
              "      <td>71.0</td>\n",
              "      <td>0</td>\n",
              "      <td>17.0</td>\n",
              "      <td>NaN</td>\n",
              "      <td>323918.0</td>\n",
              "      <td>Yes</td>\n",
              "      <td>Mal</td>\n",
              "      <td>&lt;High School</td>\n",
              "      <td>...</td>\n",
              "      <td>15.44</td>\n",
              "      <td>Minivan</td>\n",
              "      <td>0</td>\n",
              "      <td>No</td>\n",
              "      <td>0</td>\n",
              "      <td>387.000</td>\n",
              "      <td>8.0</td>\n",
              "      <td>0</td>\n",
              "      <td>Highly Urban/ Urban</td>\n",
              "      <td>Bayern</td>\n",
              "    </tr>\n",
              "    <tr>\n",
              "      <th>3</th>\n",
              "      <td>1.743448e+09</td>\n",
              "      <td>0</td>\n",
              "      <td>68.0</td>\n",
              "      <td>0</td>\n",
              "      <td>NaN</td>\n",
              "      <td>115.546</td>\n",
              "      <td>361705.0</td>\n",
              "      <td>Yes</td>\n",
              "      <td>Fem</td>\n",
              "      <td>PhD</td>\n",
              "      <td>...</td>\n",
              "      <td>18.00</td>\n",
              "      <td>unknown</td>\n",
              "      <td>4</td>\n",
              "      <td>Yes</td>\n",
              "      <td>3</td>\n",
              "      <td>308.000</td>\n",
              "      <td>19.0</td>\n",
              "      <td>0</td>\n",
              "      <td>Highly Urban/ Urban</td>\n",
              "      <td>Bayern</td>\n",
              "    </tr>\n",
              "    <tr>\n",
              "      <th>4</th>\n",
              "      <td>7.371333e+09</td>\n",
              "      <td>0</td>\n",
              "      <td>32.0</td>\n",
              "      <td>1</td>\n",
              "      <td>15.0</td>\n",
              "      <td>125.861</td>\n",
              "      <td>70668.0</td>\n",
              "      <td>z_No</td>\n",
              "      <td>Fem</td>\n",
              "      <td>Bachelors</td>\n",
              "      <td>...</td>\n",
              "      <td>17.43</td>\n",
              "      <td>Sports Car</td>\n",
              "      <td>0</td>\n",
              "      <td>No</td>\n",
              "      <td>0</td>\n",
              "      <td>3.221</td>\n",
              "      <td>9.0</td>\n",
              "      <td>1</td>\n",
              "      <td>Highly Urban/ Urban</td>\n",
              "      <td>Bayern</td>\n",
              "    </tr>\n",
              "  </tbody>\n",
              "</table>\n",
              "<p>5 rows × 23 columns</p>\n",
              "</div>"
            ],
            "text/plain": [
              "             ID  CHILD_DRIV   AGE  CHILDREN   YOJ   INCOME  HOUSE_VAL STATUS  \\\n",
              "0  6.921625e+09           0  67.0         0  14.0   53.841   359229.0   z_No   \n",
              "1  1.227899e+09           0  26.0         1  13.0   16.999   265527.0    NaN   \n",
              "2  1.950524e+09           0  71.0         0  17.0      NaN   323918.0    Yes   \n",
              "3  1.743448e+09           0  68.0         0   NaN  115.546   361705.0    Yes   \n",
              "4  7.371333e+09           0  32.0         1  15.0  125.861    70668.0   z_No   \n",
              "\n",
              "  GENDER      EDU_LEVEL  ... VEHICLE_VAL  VEHICLE_TYPE CLM_FREQ  REVOKED  \\\n",
              "0    Mal      Bachelors  ...       21.97        Family        0       No   \n",
              "1    Fem  z_High School  ...        4.01       unknown        4       No   \n",
              "2    Mal   <High School  ...       15.44       Minivan        0       No   \n",
              "3    Fem            PhD  ...       18.00       unknown        4      Yes   \n",
              "4    Fem      Bachelors  ...       17.43    Sports Car        0       No   \n",
              "\n",
              "  MVR_PTS  CLAIM_AMOUNT VEHICLE_AGE  CLAIM_IND                 AREA  \\\n",
              "0       2       294.000        12.0          0  Highly Urban/ Urban   \n",
              "1       7       292.000        12.0          0  Highly Urban/ Urban   \n",
              "2       0       387.000         8.0          0  Highly Urban/ Urban   \n",
              "3       3       308.000        19.0          0  Highly Urban/ Urban   \n",
              "4       0         3.221         9.0          1  Highly Urban/ Urban   \n",
              "\n",
              "   STATE_CODE  \n",
              "0      Berlin  \n",
              "1  Thueringen  \n",
              "2      Bayern  \n",
              "3      Bayern  \n",
              "4      Bayern  \n",
              "\n",
              "[5 rows x 23 columns]"
            ]
          },
          "execution_count": 3,
          "metadata": {},
          "output_type": "execute_result"
        }
      ],
      "source": [
        "df.head()"
      ]
    },
    {
      "cell_type": "code",
      "execution_count": null,
      "id": "a925f882",
      "metadata": {
        "id": "a925f882",
        "outputId": "30e75af0-6d26-48f6-e32b-329993dbc667"
      },
      "outputs": [
        {
          "data": {
            "text/plain": [
              "(10300, 23)"
            ]
          },
          "execution_count": 4,
          "metadata": {},
          "output_type": "execute_result"
        }
      ],
      "source": [
        "df.shape"
      ]
    },
    {
      "cell_type": "code",
      "execution_count": null,
      "id": "b1a59a6e",
      "metadata": {
        "id": "b1a59a6e",
        "outputId": "ed2ecbfa-7735-41b1-edc5-d227e92d9fa3"
      },
      "outputs": [
        {
          "data": {
            "text/html": [
              "<div>\n",
              "<style scoped>\n",
              "    .dataframe tbody tr th:only-of-type {\n",
              "        vertical-align: middle;\n",
              "    }\n",
              "\n",
              "    .dataframe tbody tr th {\n",
              "        vertical-align: top;\n",
              "    }\n",
              "\n",
              "    .dataframe thead th {\n",
              "        text-align: right;\n",
              "    }\n",
              "</style>\n",
              "<table border=\"1\" class=\"dataframe\">\n",
              "  <thead>\n",
              "    <tr style=\"text-align: right;\">\n",
              "      <th></th>\n",
              "      <th>ID</th>\n",
              "      <th>CHILD_DRIV</th>\n",
              "      <th>AGE</th>\n",
              "      <th>CHILDREN</th>\n",
              "      <th>YOJ</th>\n",
              "      <th>INCOME</th>\n",
              "      <th>HOUSE_VAL</th>\n",
              "      <th>DISTANCE</th>\n",
              "      <th>VEHICLE_VAL</th>\n",
              "      <th>CLM_FREQ</th>\n",
              "      <th>MVR_PTS</th>\n",
              "      <th>CLAIM_AMOUNT</th>\n",
              "      <th>VEHICLE_AGE</th>\n",
              "      <th>CLAIM_IND</th>\n",
              "    </tr>\n",
              "  </thead>\n",
              "  <tbody>\n",
              "    <tr>\n",
              "      <th>count</th>\n",
              "      <td>1.030000e+04</td>\n",
              "      <td>10300.000000</td>\n",
              "      <td>10293.000000</td>\n",
              "      <td>10300.000000</td>\n",
              "      <td>9752.000000</td>\n",
              "      <td>9730.000000</td>\n",
              "      <td>9.725000e+03</td>\n",
              "      <td>10300.000000</td>\n",
              "      <td>10300.000000</td>\n",
              "      <td>10300.000000</td>\n",
              "      <td>10300.000000</td>\n",
              "      <td>10300.000000</td>\n",
              "      <td>9661.000000</td>\n",
              "      <td>10300.000000</td>\n",
              "    </tr>\n",
              "    <tr>\n",
              "      <th>mean</th>\n",
              "      <td>4.536920e+09</td>\n",
              "      <td>0.170000</td>\n",
              "      <td>53.797921</td>\n",
              "      <td>0.720971</td>\n",
              "      <td>13.473954</td>\n",
              "      <td>118.930173</td>\n",
              "      <td>4.168986e+05</td>\n",
              "      <td>78.419417</td>\n",
              "      <td>15.660132</td>\n",
              "      <td>1.808641</td>\n",
              "      <td>3.202621</td>\n",
              "      <td>225.372876</td>\n",
              "      <td>10.297899</td>\n",
              "      <td>0.266602</td>\n",
              "    </tr>\n",
              "    <tr>\n",
              "      <th>std</th>\n",
              "      <td>3.054715e+09</td>\n",
              "      <td>0.507381</td>\n",
              "      <td>13.172204</td>\n",
              "      <td>1.116310</td>\n",
              "      <td>4.109358</td>\n",
              "      <td>198.564629</td>\n",
              "      <td>2.356174e+05</td>\n",
              "      <td>15.869675</td>\n",
              "      <td>8.429569</td>\n",
              "      <td>1.528187</td>\n",
              "      <td>2.585899</td>\n",
              "      <td>142.495584</td>\n",
              "      <td>5.713707</td>\n",
              "      <td>0.442204</td>\n",
              "    </tr>\n",
              "    <tr>\n",
              "      <th>min</th>\n",
              "      <td>1.130032e+07</td>\n",
              "      <td>0.000000</td>\n",
              "      <td>5.000000</td>\n",
              "      <td>0.000000</td>\n",
              "      <td>3.000000</td>\n",
              "      <td>1.005000</td>\n",
              "      <td>0.000000e+00</td>\n",
              "      <td>50.000000</td>\n",
              "      <td>1.500000</td>\n",
              "      <td>0.000000</td>\n",
              "      <td>0.000000</td>\n",
              "      <td>1.001000</td>\n",
              "      <td>-1.000000</td>\n",
              "      <td>0.000000</td>\n",
              "    </tr>\n",
              "    <tr>\n",
              "      <th>25%</th>\n",
              "      <td>2.135318e+09</td>\n",
              "      <td>0.000000</td>\n",
              "      <td>45.000000</td>\n",
              "      <td>0.000000</td>\n",
              "      <td>12.000000</td>\n",
              "      <td>35.819250</td>\n",
              "      <td>2.473380e+05</td>\n",
              "      <td>67.000000</td>\n",
              "      <td>9.200000</td>\n",
              "      <td>0.000000</td>\n",
              "      <td>2.000000</td>\n",
              "      <td>19.621000</td>\n",
              "      <td>3.000000</td>\n",
              "      <td>0.000000</td>\n",
              "    </tr>\n",
              "    <tr>\n",
              "      <th>50%</th>\n",
              "      <td>3.964367e+09</td>\n",
              "      <td>0.000000</td>\n",
              "      <td>54.000000</td>\n",
              "      <td>0.000000</td>\n",
              "      <td>14.000000</td>\n",
              "      <td>62.660500</td>\n",
              "      <td>3.886740e+05</td>\n",
              "      <td>78.000000</td>\n",
              "      <td>14.400000</td>\n",
              "      <td>2.000000</td>\n",
              "      <td>3.000000</td>\n",
              "      <td>276.000000</td>\n",
              "      <td>10.000000</td>\n",
              "      <td>0.000000</td>\n",
              "    </tr>\n",
              "    <tr>\n",
              "      <th>75%</th>\n",
              "      <td>6.280446e+09</td>\n",
              "      <td>0.000000</td>\n",
              "      <td>63.000000</td>\n",
              "      <td>1.000000</td>\n",
              "      <td>16.000000</td>\n",
              "      <td>101.475500</td>\n",
              "      <td>5.581550e+05</td>\n",
              "      <td>89.000000</td>\n",
              "      <td>20.892500</td>\n",
              "      <td>3.000000</td>\n",
              "      <td>5.000000</td>\n",
              "      <td>321.000000</td>\n",
              "      <td>14.000000</td>\n",
              "      <td>1.000000</td>\n",
              "    </tr>\n",
              "    <tr>\n",
              "      <th>max</th>\n",
              "      <td>2.017790e+10</td>\n",
              "      <td>4.000000</td>\n",
              "      <td>103.000000</td>\n",
              "      <td>5.000000</td>\n",
              "      <td>26.000000</td>\n",
              "      <td>968.000000</td>\n",
              "      <td>1.586073e+06</td>\n",
              "      <td>187.000000</td>\n",
              "      <td>69.740000</td>\n",
              "      <td>7.000000</td>\n",
              "      <td>17.000000</td>\n",
              "      <td>996.000000</td>\n",
              "      <td>30.000000</td>\n",
              "      <td>1.000000</td>\n",
              "    </tr>\n",
              "  </tbody>\n",
              "</table>\n",
              "</div>"
            ],
            "text/plain": [
              "                 ID    CHILD_DRIV           AGE      CHILDREN          YOJ  \\\n",
              "count  1.030000e+04  10300.000000  10293.000000  10300.000000  9752.000000   \n",
              "mean   4.536920e+09      0.170000     53.797921      0.720971    13.473954   \n",
              "std    3.054715e+09      0.507381     13.172204      1.116310     4.109358   \n",
              "min    1.130032e+07      0.000000      5.000000      0.000000     3.000000   \n",
              "25%    2.135318e+09      0.000000     45.000000      0.000000    12.000000   \n",
              "50%    3.964367e+09      0.000000     54.000000      0.000000    14.000000   \n",
              "75%    6.280446e+09      0.000000     63.000000      1.000000    16.000000   \n",
              "max    2.017790e+10      4.000000    103.000000      5.000000    26.000000   \n",
              "\n",
              "            INCOME     HOUSE_VAL      DISTANCE   VEHICLE_VAL      CLM_FREQ  \\\n",
              "count  9730.000000  9.725000e+03  10300.000000  10300.000000  10300.000000   \n",
              "mean    118.930173  4.168986e+05     78.419417     15.660132      1.808641   \n",
              "std     198.564629  2.356174e+05     15.869675      8.429569      1.528187   \n",
              "min       1.005000  0.000000e+00     50.000000      1.500000      0.000000   \n",
              "25%      35.819250  2.473380e+05     67.000000      9.200000      0.000000   \n",
              "50%      62.660500  3.886740e+05     78.000000     14.400000      2.000000   \n",
              "75%     101.475500  5.581550e+05     89.000000     20.892500      3.000000   \n",
              "max     968.000000  1.586073e+06    187.000000     69.740000      7.000000   \n",
              "\n",
              "            MVR_PTS  CLAIM_AMOUNT  VEHICLE_AGE     CLAIM_IND  \n",
              "count  10300.000000  10300.000000  9661.000000  10300.000000  \n",
              "mean       3.202621    225.372876    10.297899      0.266602  \n",
              "std        2.585899    142.495584     5.713707      0.442204  \n",
              "min        0.000000      1.001000    -1.000000      0.000000  \n",
              "25%        2.000000     19.621000     3.000000      0.000000  \n",
              "50%        3.000000    276.000000    10.000000      0.000000  \n",
              "75%        5.000000    321.000000    14.000000      1.000000  \n",
              "max       17.000000    996.000000    30.000000      1.000000  "
            ]
          },
          "execution_count": 5,
          "metadata": {},
          "output_type": "execute_result"
        }
      ],
      "source": [
        "df.describe()"
      ]
    },
    {
      "cell_type": "code",
      "execution_count": null,
      "id": "36c47ccc",
      "metadata": {
        "id": "36c47ccc",
        "outputId": "0e9e020d-3530-48c3-aba2-2f1960719976"
      },
      "outputs": [
        {
          "data": {
            "text/html": [
              "<div>\n",
              "<style scoped>\n",
              "    .dataframe tbody tr th:only-of-type {\n",
              "        vertical-align: middle;\n",
              "    }\n",
              "\n",
              "    .dataframe tbody tr th {\n",
              "        vertical-align: top;\n",
              "    }\n",
              "\n",
              "    .dataframe thead th {\n",
              "        text-align: right;\n",
              "    }\n",
              "</style>\n",
              "<table border=\"1\" class=\"dataframe\">\n",
              "  <thead>\n",
              "    <tr style=\"text-align: right;\">\n",
              "      <th></th>\n",
              "      <th>STATUS</th>\n",
              "      <th>GENDER</th>\n",
              "      <th>EDU_LEVEL</th>\n",
              "      <th>JOB</th>\n",
              "      <th>CAR_USE</th>\n",
              "      <th>VEHICLE_TYPE</th>\n",
              "      <th>REVOKED</th>\n",
              "      <th>AREA</th>\n",
              "      <th>STATE_CODE</th>\n",
              "    </tr>\n",
              "  </thead>\n",
              "  <tbody>\n",
              "    <tr>\n",
              "      <th>count</th>\n",
              "      <td>10298</td>\n",
              "      <td>10300</td>\n",
              "      <td>10300</td>\n",
              "      <td>9635</td>\n",
              "      <td>10300</td>\n",
              "      <td>10300</td>\n",
              "      <td>10300</td>\n",
              "      <td>10300</td>\n",
              "      <td>10300</td>\n",
              "    </tr>\n",
              "    <tr>\n",
              "      <th>unique</th>\n",
              "      <td>2</td>\n",
              "      <td>2</td>\n",
              "      <td>5</td>\n",
              "      <td>11</td>\n",
              "      <td>2</td>\n",
              "      <td>8</td>\n",
              "      <td>2</td>\n",
              "      <td>2</td>\n",
              "      <td>10</td>\n",
              "    </tr>\n",
              "    <tr>\n",
              "      <th>top</th>\n",
              "      <td>Yes</td>\n",
              "      <td>Fem</td>\n",
              "      <td>z_High School</td>\n",
              "      <td>Teacher</td>\n",
              "      <td>Private</td>\n",
              "      <td>unknown</td>\n",
              "      <td>No</td>\n",
              "      <td>Highly Urban/ Urban</td>\n",
              "      <td>Bayern</td>\n",
              "    </tr>\n",
              "    <tr>\n",
              "      <th>freq</th>\n",
              "      <td>6187</td>\n",
              "      <td>5545</td>\n",
              "      <td>2950</td>\n",
              "      <td>2288</td>\n",
              "      <td>6512</td>\n",
              "      <td>2883</td>\n",
              "      <td>9039</td>\n",
              "      <td>8228</td>\n",
              "      <td>5122</td>\n",
              "    </tr>\n",
              "  </tbody>\n",
              "</table>\n",
              "</div>"
            ],
            "text/plain": [
              "       STATUS GENDER      EDU_LEVEL      JOB  CAR_USE VEHICLE_TYPE REVOKED  \\\n",
              "count   10298  10300          10300     9635    10300        10300   10300   \n",
              "unique      2      2              5       11        2            8       2   \n",
              "top       Yes    Fem  z_High School  Teacher  Private      unknown      No   \n",
              "freq     6187   5545           2950     2288     6512         2883    9039   \n",
              "\n",
              "                       AREA STATE_CODE  \n",
              "count                 10300      10300  \n",
              "unique                    2         10  \n",
              "top     Highly Urban/ Urban     Bayern  \n",
              "freq                   8228       5122  "
            ]
          },
          "execution_count": 6,
          "metadata": {},
          "output_type": "execute_result"
        }
      ],
      "source": [
        "df.describe(include=[\"O\"])"
      ]
    },
    {
      "cell_type": "code",
      "execution_count": null,
      "id": "e48aa757",
      "metadata": {
        "id": "e48aa757",
        "outputId": "f0d5b0a1-0b57-4443-c8b8-d1ae1c53624b"
      },
      "outputs": [
        {
          "data": {
            "text/plain": [
              "ID                0\n",
              "CHILD_DRIV        0\n",
              "AGE               7\n",
              "CHILDREN          0\n",
              "YOJ             548\n",
              "INCOME          570\n",
              "HOUSE_VAL       575\n",
              "STATUS            2\n",
              "GENDER            0\n",
              "EDU_LEVEL         0\n",
              "JOB             665\n",
              "DISTANCE          0\n",
              "CAR_USE           0\n",
              "VEHICLE_VAL       0\n",
              "VEHICLE_TYPE      0\n",
              "CLM_FREQ          0\n",
              "REVOKED           0\n",
              "MVR_PTS           0\n",
              "CLAIM_AMOUNT      0\n",
              "VEHICLE_AGE     639\n",
              "CLAIM_IND         0\n",
              "AREA              0\n",
              "STATE_CODE        0\n",
              "dtype: int64"
            ]
          },
          "execution_count": 7,
          "metadata": {},
          "output_type": "execute_result"
        }
      ],
      "source": [
        "df.isna().sum()"
      ]
    },
    {
      "cell_type": "markdown",
      "source": [
        "EDA говорит нам что данные достаточно, полные, кол-во пропусков совершенно незначительно. Ключевые выводы при первом взгляде: \n",
        "Целевая переменная смещена(CLAIM_IND) - среднее значение 0.25, значит страховых случаев сильно меньше, если бы это был реальный проект, этот момент следовало бы проработать. Также, присутствует характеристики “Clm_freq”, “Revoked” и “MVR_PTC”, нам дается мало информации об этих фичах, а так следовало бы уточнить что эти данные полученны до факта обращения в страховую, потому что иначе это Data Leakage."
      ],
      "metadata": {
        "id": "zc2-WqK3Hlo5"
      },
      "id": "zc2-WqK3Hlo5"
    },
    {
      "cell_type": "code",
      "execution_count": null,
      "id": "ccd8ca47",
      "metadata": {
        "id": "ccd8ca47",
        "outputId": "8e856ce8-329a-46ae-abc8-8ce18bff6dd6"
      },
      "outputs": [
        {
          "data": {
            "text/plain": [
              "Index(['ID', 'CHILD_DRIV', 'AGE', 'CHILDREN', 'YOJ', 'INCOME', 'HOUSE_VAL',\n",
              "       'STATUS', 'GENDER', 'EDU_LEVEL', 'JOB', 'DISTANCE', 'CAR_USE',\n",
              "       'VEHICLE_VAL', 'VEHICLE_TYPE', 'CLM_FREQ', 'REVOKED', 'MVR_PTS',\n",
              "       'CLAIM_AMOUNT', 'VEHICLE_AGE', 'CLAIM_IND', 'AREA', 'STATE_CODE'],\n",
              "      dtype='object')"
            ]
          },
          "execution_count": 8,
          "metadata": {},
          "output_type": "execute_result"
        }
      ],
      "source": [
        "df.columns"
      ]
    },
    {
      "cell_type": "code",
      "execution_count": null,
      "id": "968d3278",
      "metadata": {
        "id": "968d3278",
        "outputId": "da40e488-a158-4a98-db10-db6cdd6430a1"
      },
      "outputs": [
        {
          "data": {
            "text/plain": [
              "<AxesSubplot:xlabel='AGE'>"
            ]
          },
          "execution_count": 9,
          "metadata": {},
          "output_type": "execute_result"
        },
        {
          "data": {
            "image/png": "[encoded data removed]",
            "text/plain": [
              "<Figure size 432x288 with 1 Axes>"
            ]
          },
          "metadata": {
            "needs_background": "light"
          },
          "output_type": "display_data"
        }
      ],
      "source": [
        "df[[\"AGE\", \"CLAIM_IND\"]].groupby(\"AGE\").mean().reset_index().plot(x=\"AGE\", y=\"CLAIM_IND\")\n"
      ]
    },
    {
      "cell_type": "markdown",
      "source": [
        "Чем старше водитель, тем меньше страховых случаев, но ближе к 90+ кол-во возрастает, что легко объяснить"
      ],
      "metadata": {
        "id": "AVE-b2hQHvlv"
      },
      "id": "AVE-b2hQHvlv"
    },
    {
      "cell_type": "code",
      "execution_count": null,
      "id": "ac214b50",
      "metadata": {
        "id": "ac214b50",
        "outputId": "670e96a4-1735-41bc-d692-825dcdb396a3"
      },
      "outputs": [
        {
          "data": {
            "text/plain": [
              "<AxesSubplot:xlabel='GENDER'>"
            ]
          },
          "execution_count": 10,
          "metadata": {},
          "output_type": "execute_result"
        },
        {
          "data": {
            "image/png": "[encoded data removed]",
            "text/plain": [
              "<Figure size 720x216 with 2 Axes>"
            ]
          },
          "metadata": {
            "needs_background": "light"
          },
          "output_type": "display_data"
        }
      ],
      "source": [
        "fig, axes = plt.subplots(nrows=1, ncols=2)\n",
        "df.groupby(\"GENDER\").mean().reset_index().plot(x=\"GENDER\", y=\"CLAIM_AMOUNT\", ax=axes[0], kind=\"bar\")\n",
        "df.groupby(\"GENDER\").mean().reset_index().plot(x=\"GENDER\", y=\"CLAIM_IND\", ax=axes[1], kind=\"bar\", figsize=(10,3))"
      ]
    },
    {
      "cell_type": "markdown",
      "source": [
        "Связь между целевыми переменами и гендером совершенно минимальна"
      ],
      "metadata": {
        "id": "jrLVgJkFH06I"
      },
      "id": "jrLVgJkFH06I"
    },
    {
      "cell_type": "code",
      "execution_count": null,
      "id": "2e4ef78b",
      "metadata": {
        "id": "2e4ef78b"
      },
      "outputs": [],
      "source": [
        "car_vals = pd.cut(x=df[\"VEHICLE_VAL\"], bins = (0, 9, 14, 20, 70))"
      ]
    },
    {
      "cell_type": "code",
      "execution_count": null,
      "id": "66d8ca00",
      "metadata": {
        "id": "66d8ca00"
      },
      "outputs": [],
      "source": [
        "vals = pd.concat([df[[\"CLAIM_AMOUNT\", \"CLAIM_IND\"]], car_vals], axis=1)"
      ]
    },
    {
      "cell_type": "code",
      "execution_count": null,
      "id": "7c852c3d",
      "metadata": {
        "id": "7c852c3d",
        "outputId": "1d7ba69b-a1eb-42ba-cb8f-8588595af11b"
      },
      "outputs": [
        {
          "data": {
            "text/plain": [
              "<AxesSubplot:xlabel='VEHICLE_VAL'>"
            ]
          },
          "execution_count": 13,
          "metadata": {},
          "output_type": "execute_result"
        },
        {
          "data": {
            "image/png": "[encoded data removed]",
            "text/plain": [
              "<Figure size 504x216 with 2 Axes>"
            ]
          },
          "metadata": {
            "needs_background": "light"
          },
          "output_type": "display_data"
        }
      ],
      "source": [
        "fig, axes = plt.subplots(nrows=1, ncols=2)\n",
        "vals.groupby(\"VEHICLE_VAL\").mean().reset_index().plot(x=\"VEHICLE_VAL\", y=\"CLAIM_AMOUNT\", ax=axes[0],kind=\"bar\", figsize=(7,3))\n",
        "vals.groupby(\"VEHICLE_VAL\").mean().reset_index().plot(x=\"VEHICLE_VAL\", y=\"CLAIM_IND\", ax=axes[1], kind=\"bar\")"
      ]
    },
    {
      "cell_type": "markdown",
      "source": [
        "Интересная связь со стоимостью автомобиля, выплаты не зависят, тем не менее чем дороже автомобиль, тем аккуратнее ездит водитель"
      ],
      "metadata": {
        "id": "a6S-hiJ3H-PA"
      },
      "id": "a6S-hiJ3H-PA"
    },
    {
      "cell_type": "code",
      "execution_count": null,
      "id": "a08c1d96",
      "metadata": {
        "id": "a08c1d96",
        "outputId": "32a76e06-fca6-46e8-d79c-c9c1cf0d3b54"
      },
      "outputs": [
        {
          "data": {
            "text/plain": [
              "count    9661.000000\n",
              "mean       10.297899\n",
              "std         5.713707\n",
              "min        -1.000000\n",
              "25%         3.000000\n",
              "50%        10.000000\n",
              "75%        14.000000\n",
              "max        30.000000\n",
              "Name: VEHICLE_AGE, dtype: float64"
            ]
          },
          "execution_count": 14,
          "metadata": {},
          "output_type": "execute_result"
        }
      ],
      "source": [
        "df[\"VEHICLE_AGE\"].describe()"
      ]
    },
    {
      "cell_type": "code",
      "execution_count": null,
      "id": "34f7c87f",
      "metadata": {
        "id": "34f7c87f",
        "outputId": "5a94426b-7125-464a-feb0-a4eca7c31de2"
      },
      "outputs": [
        {
          "data": {
            "text/plain": [
              "<AxesSubplot:xlabel='VEHICLE_AGE'>"
            ]
          },
          "execution_count": 15,
          "metadata": {},
          "output_type": "execute_result"
        },
        {
          "data": {
            "image/png": "[encoded data removed]",
            "text/plain": [
              "<Figure size 504x216 with 2 Axes>"
            ]
          },
          "metadata": {
            "needs_background": "light"
          },
          "output_type": "display_data"
        }
      ],
      "source": [
        "fig, axes = plt.subplots(nrows=1, ncols=2)\n",
        "ages = pd.concat([df[[\"CLAIM_AMOUNT\", \"CLAIM_IND\"]], pd.qcut(df[\"VEHICLE_AGE\"], q=4)], axis=1)\n",
        "ages.groupby(\"VEHICLE_AGE\").mean().reset_index().plot(x=\"VEHICLE_AGE\", y=\"CLAIM_AMOUNT\", ax=axes[0],kind=\"bar\", figsize=(7,3))\n",
        "ages.groupby(\"VEHICLE_AGE\").mean().reset_index().plot(x=\"VEHICLE_AGE\", y=\"CLAIM_IND\", ax=axes[1], kind=\"bar\")\n"
      ]
    },
    {
      "cell_type": "markdown",
      "source": [
        "Похожий случай с возрастом автомобиля, я могу только догадываться с чем это связано, возможно чем старше автомобиль, тем чаще в нем возникают неисправности, поэтому лучше ездить тише"
      ],
      "metadata": {
        "id": "JBx015afIIVn"
      },
      "id": "JBx015afIIVn"
    },
    {
      "cell_type": "code",
      "execution_count": null,
      "id": "21e16995",
      "metadata": {
        "id": "21e16995",
        "outputId": "31c5e000-5462-4cd4-c3f5-c4bcc5bf9d9a"
      },
      "outputs": [
        {
          "data": {
            "text/plain": [
              "<AxesSubplot:xlabel='STATUS'>"
            ]
          },
          "execution_count": 16,
          "metadata": {},
          "output_type": "execute_result"
        },
        {
          "data": {
            "image/png": "[encoded data removed]",
            "text/plain": [
              "<Figure size 504x288 with 2 Axes>"
            ]
          },
          "metadata": {
            "needs_background": "light"
          },
          "output_type": "display_data"
        }
      ],
      "source": [
        "fig, axes = plt.subplots(nrows=1, ncols=2)\n",
        "df.groupby(\"STATUS\").mean().reset_index().plot(x=\"STATUS\", y=\"CLAIM_AMOUNT\", ax=axes[0],kind=\"bar\", figsize=(7,4))\n",
        "df.groupby(\"STATUS\").mean().reset_index().plot(x=\"STATUS\", y=\"CLAIM_IND\", ax=axes[1], kind=\"bar\")"
      ]
    },
    {
      "cell_type": "markdown",
      "source": [
        "Женатые люди реже попадают в “страховые случае”, а выплачивают им побольше, это так же можно объяснить логически"
      ],
      "metadata": {
        "id": "Y6r9i9AHINil"
      },
      "id": "Y6r9i9AHINil"
    },
    {
      "cell_type": "code",
      "execution_count": null,
      "id": "cfdf5e10",
      "metadata": {
        "id": "cfdf5e10",
        "outputId": "447b0b85-adee-4bbf-9a05-60017746e74c"
      },
      "outputs": [
        {
          "data": {
            "text/plain": [
              "<AxesSubplot:>"
            ]
          },
          "execution_count": 17,
          "metadata": {},
          "output_type": "execute_result"
        },
        {
          "data": {
            "image/png": "[encoded data removed]",
            "text/plain": [
              "<Figure size 648x576 with 2 Axes>"
            ]
          },
          "metadata": {
            "needs_background": "light"
          },
          "output_type": "display_data"
        }
      ],
      "source": [
        "fig, ax = plt.subplots(figsize=(9,8))\n",
        "sns.heatmap(df.corr(), annot=True, ax=ax)\n"
      ]
    },
    {
      "cell_type": "code",
      "execution_count": null,
      "id": "ab8311e9",
      "metadata": {
        "id": "ab8311e9",
        "outputId": "3acb57df-7e05-4d2c-fa40-0b93ce88f628"
      },
      "outputs": [
        {
          "data": {
            "text/plain": [
              "<AxesSubplot:>"
            ]
          },
          "execution_count": 18,
          "metadata": {},
          "output_type": "execute_result"
        },
        {
          "data": {
            "image/png": "[encoded data removed]",
            "text/plain": [
              "<Figure size 864x288 with 2 Axes>"
            ]
          },
          "metadata": {
            "needs_background": "light"
          },
          "output_type": "display_data"
        }
      ],
      "source": [
        "fig, ax = plt.subplots(figsize=(12,4))\n",
        "sns.heatmap(df.corr().loc[[\"CLAIM_AMOUNT\",\"CLAIM_IND\"]], annot=True, ax=ax)\n"
      ]
    },
    {
      "cell_type": "markdown",
      "source": [
        "Самыми значимыми оказываются фичи, связанные с состоянием водителя(доход, стоимость авто\\дома)"
      ],
      "metadata": {
        "id": "yp23gBQgIZvz"
      },
      "id": "yp23gBQgIZvz"
    },
    {
      "cell_type": "code",
      "execution_count": null,
      "id": "bcb19c39",
      "metadata": {
        "id": "bcb19c39"
      },
      "outputs": [],
      "source": [
        "X = df.drop(columns=[\"CLAIM_AMOUNT\", \"CLAIM_IND\", \"ID\"])\n",
        "y = df[[\"CLAIM_AMOUNT\", \"CLAIM_IND\"]]\n",
        "num_cols = X.select_dtypes(exclude=[\"object\"]).columns\n",
        "obj_cols = X.select_dtypes([\"object\"]).columns"
      ]
    },
    {
      "cell_type": "code",
      "execution_count": null,
      "id": "a84192ed",
      "metadata": {
        "id": "a84192ed"
      },
      "outputs": [],
      "source": [
        "from sklearn.preprocessing import StandardScaler, OneHotEncoder\n",
        "from sklearn.impute import SimpleImputer"
      ]
    },
    {
      "cell_type": "markdown",
      "source": [
        "Для построения и обучения моделей, нам стоит заполнить пропуски, я использую значения медианы для численных значений, и самых частых для категориальных"
      ],
      "metadata": {
        "id": "0XJFN_GRIhVG"
      },
      "id": "0XJFN_GRIhVG"
    },
    {
      "cell_type": "code",
      "execution_count": null,
      "id": "085a9094",
      "metadata": {
        "id": "085a9094"
      },
      "outputs": [],
      "source": [
        "imputer = SimpleImputer(strategy=\"median\")\n",
        "X[num_cols] = imputer.fit_transform(X[num_cols])\n",
        "imputer = SimpleImputer(strategy=\"most_frequent\")\n",
        "X[obj_cols] = imputer.fit_transform(X[obj_cols])"
      ]
    },
    {
      "cell_type": "code",
      "execution_count": null,
      "id": "595747ca",
      "metadata": {
        "scrolled": true,
        "id": "595747ca"
      },
      "outputs": [],
      "source": [
        "OH = OneHotEncoder(handle_unknown='ignore')\n",
        "data = OH.fit_transform(X[obj_cols])\n",
        "cols = OH.get_feature_names()\n",
        "X = pd.concat([X[num_cols], pd.DataFrame.sparse.from_spmatrix(data, columns=cols)],axis=1)\n",
        "obj_cols = cols"
      ]
    },
    {
      "cell_type": "markdown",
      "source": [
        "Я планирую использовать модели, использующие градиентный спуск, поэтому необходимо отмасшатабировать данные"
      ],
      "metadata": {
        "id": "ptgCuYxAItsV"
      },
      "id": "ptgCuYxAItsV"
    },
    {
      "cell_type": "code",
      "execution_count": null,
      "id": "6a23847e",
      "metadata": {
        "id": "6a23847e"
      },
      "outputs": [],
      "source": [
        "scaler = StandardScaler()\n",
        "X[num_cols] = scaler.fit_transform(X[num_cols])"
      ]
    },
    {
      "cell_type": "code",
      "execution_count": null,
      "id": "36006c24",
      "metadata": {
        "id": "36006c24",
        "outputId": "e3383992-47eb-49ae-dd20-4211b884ffe9"
      },
      "outputs": [
        {
          "name": "stderr",
          "output_type": "stream",
          "text": [
            "D:\\ProgramData\\Anaconda3\\envs\\coursera_ds\\lib\\site-packages\\sklearn\\utils\\validation.py:573: UserWarning: pandas.DataFrame with sparse columns found.It will be converted to a dense numpy array.\n",
            "  \"pandas.DataFrame with sparse columns found.\"\n"
          ]
        }
      ],
      "source": [
        "from sklearn.decomposition import PCA\n",
        "pca = PCA(2)\n",
        "X_pca = pca.fit_transform(X)"
      ]
    },
    {
      "cell_type": "code",
      "execution_count": null,
      "id": "29a319a4",
      "metadata": {
        "id": "29a319a4",
        "outputId": "9622a741-5bd1-44c7-d1b6-096736df2bb0"
      },
      "outputs": [
        {
          "data": {
            "text/plain": [
              "<matplotlib.collections.PathCollection at 0x1acac5264e0>"
            ]
          },
          "execution_count": 25,
          "metadata": {},
          "output_type": "execute_result"
        },
        {
          "data": {
            "image/png": "[encoded data removed]",
            "text/plain": [
              "<Figure size 432x288 with 1 Axes>"
            ]
          },
          "metadata": {
            "needs_background": "light"
          },
          "output_type": "display_data"
        }
      ],
      "source": [
        "plt.scatter(X_pca[:,0], X_pca[:,1], c=y[\"CLAIM_IND\"])"
      ]
    },
    {
      "cell_type": "markdown",
      "source": [
        "Я попробовал применить PCA, чтобы визуализировать весь датасет, а также оценить насколько тяжело будет отделить значения при классификации\n",
        "\n",
        "С помощью двух компонент, их было бы невозможно отделить. На этой визуализации это не представляется возможным"
      ],
      "metadata": {
        "id": "33c983fb"
      },
      "id": "33c983fb"
    },
    {
      "cell_type": "code",
      "execution_count": null,
      "id": "ebe7b125",
      "metadata": {
        "id": "ebe7b125"
      },
      "outputs": [],
      "source": [
        "from sklearn.model_selection import train_test_split\n",
        "\n",
        "X_train, X_test, y_train, y_test = train_test_split(X.to_numpy(), y.iloc[:,0].to_numpy(), test_size=0.33, random_state=42)"
      ]
    },
    {
      "cell_type": "code",
      "execution_count": null,
      "id": "873ea5c6",
      "metadata": {
        "id": "873ea5c6",
        "outputId": "bb259c68-b786-44d7-932b-37991e3c2ff8"
      },
      "outputs": [
        {
          "data": {
            "text/html": [
              "<div>\n",
              "<style scoped>\n",
              "    .dataframe tbody tr th:only-of-type {\n",
              "        vertical-align: middle;\n",
              "    }\n",
              "\n",
              "    .dataframe tbody tr th {\n",
              "        vertical-align: top;\n",
              "    }\n",
              "\n",
              "    .dataframe thead th {\n",
              "        text-align: right;\n",
              "    }\n",
              "</style>\n",
              "<table border=\"1\" class=\"dataframe\">\n",
              "  <thead>\n",
              "    <tr style=\"text-align: right;\">\n",
              "      <th></th>\n",
              "      <th>CHILD_DRIV</th>\n",
              "      <th>AGE</th>\n",
              "      <th>CHILDREN</th>\n",
              "      <th>YOJ</th>\n",
              "      <th>INCOME</th>\n",
              "      <th>HOUSE_VAL</th>\n",
              "      <th>DISTANCE</th>\n",
              "      <th>VEHICLE_VAL</th>\n",
              "      <th>CLM_FREQ</th>\n",
              "      <th>MVR_PTS</th>\n",
              "      <th>...</th>\n",
              "      <th>x8_Bayern</th>\n",
              "      <th>x8_Berlin</th>\n",
              "      <th>x8_Brandenburg</th>\n",
              "      <th>x8_Hessen</th>\n",
              "      <th>x8_Mecklenburg-Vorpomme</th>\n",
              "      <th>x8_Nordrhein-Westfalen</th>\n",
              "      <th>x8_Rheinland-Pfalz</th>\n",
              "      <th>x8_Sachsen</th>\n",
              "      <th>x8_Sachsen-Anhalt</th>\n",
              "      <th>x8_Thueringen</th>\n",
              "    </tr>\n",
              "  </thead>\n",
              "  <tbody>\n",
              "    <tr>\n",
              "      <th>0</th>\n",
              "      <td>-0.33507</td>\n",
              "      <td>1.002647</td>\n",
              "      <td>-0.645883</td>\n",
              "      <td>0.124512</td>\n",
              "      <td>-0.320433</td>\n",
              "      <td>-0.244924</td>\n",
              "      <td>-0.467544</td>\n",
              "      <td>0.748576</td>\n",
              "      <td>-1.183578</td>\n",
              "      <td>-0.465091</td>\n",
              "      <td>...</td>\n",
              "      <td>0.0</td>\n",
              "      <td>1.0</td>\n",
              "      <td>0.0</td>\n",
              "      <td>0.0</td>\n",
              "      <td>0.0</td>\n",
              "      <td>0.0</td>\n",
              "      <td>0.0</td>\n",
              "      <td>0.0</td>\n",
              "      <td>0.0</td>\n",
              "      <td>0.0</td>\n",
              "    </tr>\n",
              "    <tr>\n",
              "      <th>1</th>\n",
              "      <td>-0.33507</td>\n",
              "      <td>-2.111177</td>\n",
              "      <td>0.249969</td>\n",
              "      <td>-0.125483</td>\n",
              "      <td>-0.510919</td>\n",
              "      <td>-0.654056</td>\n",
              "      <td>-1.790887</td>\n",
              "      <td>-1.382123</td>\n",
              "      <td>1.434030</td>\n",
              "      <td>1.468566</td>\n",
              "      <td>...</td>\n",
              "      <td>0.0</td>\n",
              "      <td>0.0</td>\n",
              "      <td>0.0</td>\n",
              "      <td>0.0</td>\n",
              "      <td>0.0</td>\n",
              "      <td>0.0</td>\n",
              "      <td>0.0</td>\n",
              "      <td>0.0</td>\n",
              "      <td>0.0</td>\n",
              "      <td>1.0</td>\n",
              "    </tr>\n",
              "    <tr>\n",
              "      <th>2</th>\n",
              "      <td>-0.33507</td>\n",
              "      <td>1.306435</td>\n",
              "      <td>-0.645883</td>\n",
              "      <td>0.874496</td>\n",
              "      <td>-0.274833</td>\n",
              "      <td>-0.399103</td>\n",
              "      <td>-0.089446</td>\n",
              "      <td>-0.026116</td>\n",
              "      <td>-1.183578</td>\n",
              "      <td>-1.238554</td>\n",
              "      <td>...</td>\n",
              "      <td>1.0</td>\n",
              "      <td>0.0</td>\n",
              "      <td>0.0</td>\n",
              "      <td>0.0</td>\n",
              "      <td>0.0</td>\n",
              "      <td>0.0</td>\n",
              "      <td>0.0</td>\n",
              "      <td>0.0</td>\n",
              "      <td>0.0</td>\n",
              "      <td>0.0</td>\n",
              "    </tr>\n",
              "    <tr>\n",
              "      <th>3</th>\n",
              "      <td>-0.33507</td>\n",
              "      <td>1.078594</td>\n",
              "      <td>-0.645883</td>\n",
              "      <td>0.124512</td>\n",
              "      <td>-0.001397</td>\n",
              "      <td>-0.234113</td>\n",
              "      <td>0.162619</td>\n",
              "      <td>0.277592</td>\n",
              "      <td>1.434030</td>\n",
              "      <td>-0.078360</td>\n",
              "      <td>...</td>\n",
              "      <td>1.0</td>\n",
              "      <td>0.0</td>\n",
              "      <td>0.0</td>\n",
              "      <td>0.0</td>\n",
              "      <td>0.0</td>\n",
              "      <td>0.0</td>\n",
              "      <td>0.0</td>\n",
              "      <td>0.0</td>\n",
              "      <td>0.0</td>\n",
              "      <td>0.0</td>\n",
              "    </tr>\n",
              "    <tr>\n",
              "      <th>4</th>\n",
              "      <td>-0.33507</td>\n",
              "      <td>-1.655496</td>\n",
              "      <td>0.249969</td>\n",
              "      <td>0.374507</td>\n",
              "      <td>0.051935</td>\n",
              "      <td>-1.504871</td>\n",
              "      <td>0.792782</td>\n",
              "      <td>0.209970</td>\n",
              "      <td>-1.183578</td>\n",
              "      <td>-1.238554</td>\n",
              "      <td>...</td>\n",
              "      <td>1.0</td>\n",
              "      <td>0.0</td>\n",
              "      <td>0.0</td>\n",
              "      <td>0.0</td>\n",
              "      <td>0.0</td>\n",
              "      <td>0.0</td>\n",
              "      <td>0.0</td>\n",
              "      <td>0.0</td>\n",
              "      <td>0.0</td>\n",
              "      <td>0.0</td>\n",
              "    </tr>\n",
              "    <tr>\n",
              "      <th>...</th>\n",
              "      <td>...</td>\n",
              "      <td>...</td>\n",
              "      <td>...</td>\n",
              "      <td>...</td>\n",
              "      <td>...</td>\n",
              "      <td>...</td>\n",
              "      <td>...</td>\n",
              "      <td>...</td>\n",
              "      <td>...</td>\n",
              "      <td>...</td>\n",
              "      <td>...</td>\n",
              "      <td>...</td>\n",
              "      <td>...</td>\n",
              "      <td>...</td>\n",
              "      <td>...</td>\n",
              "      <td>...</td>\n",
              "      <td>...</td>\n",
              "      <td>...</td>\n",
              "      <td>...</td>\n",
              "      <td>...</td>\n",
              "      <td>...</td>\n",
              "    </tr>\n",
              "    <tr>\n",
              "      <th>10295</th>\n",
              "      <td>1.63593</td>\n",
              "      <td>0.015337</td>\n",
              "      <td>1.145821</td>\n",
              "      <td>-0.375478</td>\n",
              "      <td>0.257549</td>\n",
              "      <td>0.181717</td>\n",
              "      <td>-0.782626</td>\n",
              "      <td>-0.283555</td>\n",
              "      <td>-1.183578</td>\n",
              "      <td>1.081834</td>\n",
              "      <td>...</td>\n",
              "      <td>1.0</td>\n",
              "      <td>0.0</td>\n",
              "      <td>0.0</td>\n",
              "      <td>0.0</td>\n",
              "      <td>0.0</td>\n",
              "      <td>0.0</td>\n",
              "      <td>0.0</td>\n",
              "      <td>0.0</td>\n",
              "      <td>0.0</td>\n",
              "      <td>0.0</td>\n",
              "    </tr>\n",
              "    <tr>\n",
              "      <th>10296</th>\n",
              "      <td>-0.33507</td>\n",
              "      <td>-0.364398</td>\n",
              "      <td>-0.645883</td>\n",
              "      <td>-0.375478</td>\n",
              "      <td>-0.039565</td>\n",
              "      <td>1.412979</td>\n",
              "      <td>0.162619</td>\n",
              "      <td>1.047538</td>\n",
              "      <td>-1.183578</td>\n",
              "      <td>-1.238554</td>\n",
              "      <td>...</td>\n",
              "      <td>1.0</td>\n",
              "      <td>0.0</td>\n",
              "      <td>0.0</td>\n",
              "      <td>0.0</td>\n",
              "      <td>0.0</td>\n",
              "      <td>0.0</td>\n",
              "      <td>0.0</td>\n",
              "      <td>0.0</td>\n",
              "      <td>0.0</td>\n",
              "      <td>0.0</td>\n",
              "    </tr>\n",
              "    <tr>\n",
              "      <th>10297</th>\n",
              "      <td>-0.33507</td>\n",
              "      <td>0.774806</td>\n",
              "      <td>-0.645883</td>\n",
              "      <td>1.124491</td>\n",
              "      <td>-0.389943</td>\n",
              "      <td>-0.348519</td>\n",
              "      <td>-1.349773</td>\n",
              "      <td>-0.218306</td>\n",
              "      <td>0.125226</td>\n",
              "      <td>-1.238554</td>\n",
              "      <td>...</td>\n",
              "      <td>1.0</td>\n",
              "      <td>0.0</td>\n",
              "      <td>0.0</td>\n",
              "      <td>0.0</td>\n",
              "      <td>0.0</td>\n",
              "      <td>0.0</td>\n",
              "      <td>0.0</td>\n",
              "      <td>0.0</td>\n",
              "      <td>0.0</td>\n",
              "      <td>0.0</td>\n",
              "    </tr>\n",
              "    <tr>\n",
              "      <th>10298</th>\n",
              "      <td>-0.33507</td>\n",
              "      <td>0.698859</td>\n",
              "      <td>-0.645883</td>\n",
              "      <td>-0.875467</td>\n",
              "      <td>-0.369221</td>\n",
              "      <td>0.252461</td>\n",
              "      <td>0.162619</td>\n",
              "      <td>0.817385</td>\n",
              "      <td>0.125226</td>\n",
              "      <td>-1.238554</td>\n",
              "      <td>...</td>\n",
              "      <td>0.0</td>\n",
              "      <td>1.0</td>\n",
              "      <td>0.0</td>\n",
              "      <td>0.0</td>\n",
              "      <td>0.0</td>\n",
              "      <td>0.0</td>\n",
              "      <td>0.0</td>\n",
              "      <td>0.0</td>\n",
              "      <td>0.0</td>\n",
              "      <td>0.0</td>\n",
              "    </tr>\n",
              "    <tr>\n",
              "      <th>10299</th>\n",
              "      <td>-0.33507</td>\n",
              "      <td>1.154541</td>\n",
              "      <td>-0.645883</td>\n",
              "      <td>0.124512</td>\n",
              "      <td>-0.318603</td>\n",
              "      <td>-0.696060</td>\n",
              "      <td>1.927076</td>\n",
              "      <td>0.443682</td>\n",
              "      <td>0.125226</td>\n",
              "      <td>-0.465091</td>\n",
              "      <td>...</td>\n",
              "      <td>0.0</td>\n",
              "      <td>0.0</td>\n",
              "      <td>0.0</td>\n",
              "      <td>0.0</td>\n",
              "      <td>0.0</td>\n",
              "      <td>0.0</td>\n",
              "      <td>0.0</td>\n",
              "      <td>0.0</td>\n",
              "      <td>0.0</td>\n",
              "      <td>1.0</td>\n",
              "    </tr>\n",
              "  </tbody>\n",
              "</table>\n",
              "<p>10300 rows × 55 columns</p>\n",
              "</div>"
            ],
            "text/plain": [
              "       CHILD_DRIV       AGE  CHILDREN       YOJ    INCOME  HOUSE_VAL  \\\n",
              "0        -0.33507  1.002647 -0.645883  0.124512 -0.320433  -0.244924   \n",
              "1        -0.33507 -2.111177  0.249969 -0.125483 -0.510919  -0.654056   \n",
              "2        -0.33507  1.306435 -0.645883  0.874496 -0.274833  -0.399103   \n",
              "3        -0.33507  1.078594 -0.645883  0.124512 -0.001397  -0.234113   \n",
              "4        -0.33507 -1.655496  0.249969  0.374507  0.051935  -1.504871   \n",
              "...           ...       ...       ...       ...       ...        ...   \n",
              "10295     1.63593  0.015337  1.145821 -0.375478  0.257549   0.181717   \n",
              "10296    -0.33507 -0.364398 -0.645883 -0.375478 -0.039565   1.412979   \n",
              "10297    -0.33507  0.774806 -0.645883  1.124491 -0.389943  -0.348519   \n",
              "10298    -0.33507  0.698859 -0.645883 -0.875467 -0.369221   0.252461   \n",
              "10299    -0.33507  1.154541 -0.645883  0.124512 -0.318603  -0.696060   \n",
              "\n",
              "       DISTANCE  VEHICLE_VAL  CLM_FREQ   MVR_PTS  ...  x8_Bayern  x8_Berlin  \\\n",
              "0     -0.467544     0.748576 -1.183578 -0.465091  ...        0.0        1.0   \n",
              "1     -1.790887    -1.382123  1.434030  1.468566  ...        0.0        0.0   \n",
              "2     -0.089446    -0.026116 -1.183578 -1.238554  ...        1.0        0.0   \n",
              "3      0.162619     0.277592  1.434030 -0.078360  ...        1.0        0.0   \n",
              "4      0.792782     0.209970 -1.183578 -1.238554  ...        1.0        0.0   \n",
              "...         ...          ...       ...       ...  ...        ...        ...   \n",
              "10295 -0.782626    -0.283555 -1.183578  1.081834  ...        1.0        0.0   \n",
              "10296  0.162619     1.047538 -1.183578 -1.238554  ...        1.0        0.0   \n",
              "10297 -1.349773    -0.218306  0.125226 -1.238554  ...        1.0        0.0   \n",
              "10298  0.162619     0.817385  0.125226 -1.238554  ...        0.0        1.0   \n",
              "10299  1.927076     0.443682  0.125226 -0.465091  ...        0.0        0.0   \n",
              "\n",
              "       x8_Brandenburg  x8_Hessen  x8_Mecklenburg-Vorpomme  \\\n",
              "0                 0.0        0.0                      0.0   \n",
              "1                 0.0        0.0                      0.0   \n",
              "2                 0.0        0.0                      0.0   \n",
              "3                 0.0        0.0                      0.0   \n",
              "4                 0.0        0.0                      0.0   \n",
              "...               ...        ...                      ...   \n",
              "10295             0.0        0.0                      0.0   \n",
              "10296             0.0        0.0                      0.0   \n",
              "10297             0.0        0.0                      0.0   \n",
              "10298             0.0        0.0                      0.0   \n",
              "10299             0.0        0.0                      0.0   \n",
              "\n",
              "       x8_Nordrhein-Westfalen  x8_Rheinland-Pfalz  x8_Sachsen  \\\n",
              "0                         0.0                 0.0         0.0   \n",
              "1                         0.0                 0.0         0.0   \n",
              "2                         0.0                 0.0         0.0   \n",
              "3                         0.0                 0.0         0.0   \n",
              "4                         0.0                 0.0         0.0   \n",
              "...                       ...                 ...         ...   \n",
              "10295                     0.0                 0.0         0.0   \n",
              "10296                     0.0                 0.0         0.0   \n",
              "10297                     0.0                 0.0         0.0   \n",
              "10298                     0.0                 0.0         0.0   \n",
              "10299                     0.0                 0.0         0.0   \n",
              "\n",
              "       x8_Sachsen-Anhalt  x8_Thueringen  \n",
              "0                    0.0            0.0  \n",
              "1                    0.0            1.0  \n",
              "2                    0.0            0.0  \n",
              "3                    0.0            0.0  \n",
              "4                    0.0            0.0  \n",
              "...                  ...            ...  \n",
              "10295                0.0            0.0  \n",
              "10296                0.0            0.0  \n",
              "10297                0.0            0.0  \n",
              "10298                0.0            0.0  \n",
              "10299                0.0            1.0  \n",
              "\n",
              "[10300 rows x 55 columns]"
            ]
          },
          "execution_count": 27,
          "metadata": {},
          "output_type": "execute_result"
        }
      ],
      "source": [
        "X"
      ]
    },
    {
      "cell_type": "code",
      "execution_count": null,
      "id": "293dfcd2",
      "metadata": {
        "id": "293dfcd2"
      },
      "outputs": [],
      "source": [
        "scores = []\n",
        "indexes = []"
      ]
    },
    {
      "cell_type": "code",
      "execution_count": null,
      "id": "c3e4e61c",
      "metadata": {
        "id": "c3e4e61c"
      },
      "outputs": [],
      "source": [
        "from sklearn.linear_model import Lasso\n",
        "lasso = Lasso(alpha=0.0001, max_iter=1000000).fit(X_train, y_train)"
      ]
    },
    {
      "cell_type": "code",
      "execution_count": null,
      "id": "39ceb433",
      "metadata": {
        "id": "39ceb433",
        "outputId": "34308e23-9a30-4a47-e972-5c9967d07168"
      },
      "outputs": [
        {
          "name": "stdout",
          "output_type": "stream",
          "text": [
            "Правильность нa обучающем наборе: 0.16\n",
            "Правильность Ha тестовом наборe: 0.16\n",
            "Количество использованных признаков: 49\n",
            "Index(['x5_Family', 'x3_Police', 'x7_Highly Urban/ Urban'], dtype='object')\n"
          ]
        },
        {
          "data": {
            "text/plain": [
              "array([129.94197364, 128.364638  , -84.72565076])"
            ]
          },
          "execution_count": 30,
          "metadata": {},
          "output_type": "execute_result"
        }
      ],
      "source": [
        "print(\"Правильность нa обучающем наборе: {:.2f}\".format(lasso.score(X_train, y_train)))\n",
        "print(\"Правильность Ha тестовом наборe: {:.2f}\".format(lasso.score(X_test, y_test)))\n",
        "print(\"Количество использованных признаков: {}\".format(np.sum(lasso.coef_ != 0)))\n",
        "scores.append([\"{:.2f}\".format(lasso.score(X_train, y_train)),\"{:.2f}\".format(lasso.score(X_test, y_test))])\n",
        "indexes.append(\"Lasso\")\n",
        "ind = np.argsort(np.abs(lasso.coef_))[::-1][:3]\n",
        "print(X.columns[ind])\n",
        "lasso.coef_[ind]"
      ]
    },
    {
      "cell_type": "code",
      "execution_count": null,
      "id": "f22cc440",
      "metadata": {
        "id": "f22cc440"
      },
      "outputs": [],
      "source": [
        "from sklearn.ensemble import RandomForestRegressor\n",
        "RFR = RandomForestRegressor(n_estimators=100, max_depth=5).fit(X_train, y_train)\n"
      ]
    },
    {
      "cell_type": "code",
      "execution_count": null,
      "id": "c5d0e626",
      "metadata": {
        "scrolled": true,
        "id": "c5d0e626",
        "outputId": "267b8b84-c258-4206-8475-4886715f9d47"
      },
      "outputs": [
        {
          "name": "stdout",
          "output_type": "stream",
          "text": [
            "Правильность нa обучающем наборе: 0.19\n",
            "Правильность Ha тестовом наборe: 0.15\n",
            "Index(['x7_z_Highly Rural/ Rural', 'x2_z_High School',\n",
            "       'x7_Highly Urban/ Urban'],\n",
            "      dtype='object')\n"
          ]
        },
        {
          "data": {
            "text/plain": [
              "array([0.14849299, 0.07052702, 0.06905815])"
            ]
          },
          "execution_count": 32,
          "metadata": {},
          "output_type": "execute_result"
        }
      ],
      "source": [
        "print(\"Правильность нa обучающем наборе: {:.2f}\".format(RFR.score(X_train, y_train)))\n",
        "print(\"Правильность Ha тестовом наборe: {:.2f}\".format(RFR.score(X_test, y_test)))\n",
        "\n",
        "scores.append([\"{:.2f}\".format(RFR.score(X_train, y_train)), \"{:.2f}\".format(RFR.score(X_test, y_test))])\n",
        "indexes.append(\"RandomForestRegressor\")\n",
        "\n",
        "ind = np.argsort(np.abs(RFR.feature_importances_))[::-1][:3]\n",
        "print(X.columns[ind])\n",
        "RFR.feature_importances_[ind]"
      ]
    },
    {
      "cell_type": "code",
      "execution_count": null,
      "id": "2c0eb320",
      "metadata": {
        "id": "2c0eb320"
      },
      "outputs": [],
      "source": [
        "from sklearn.svm import SVR\n",
        "svrpoly = SVR(kernel=\"poly\", C=100, gamma=\"auto\", degree=3, epsilon=0.1, coef0=1).fit(X_train, y_train)\n",
        "svrrbf = SVR(kernel=\"rbf\", C=100, gamma=0.1, epsilon=0.1).fit(X_train, y_train)"
      ]
    },
    {
      "cell_type": "code",
      "execution_count": null,
      "id": "8c80a618",
      "metadata": {
        "id": "8c80a618",
        "outputId": "a9273b1e-cc43-4f60-cc5d-49fe4b6eb063"
      },
      "outputs": [
        {
          "name": "stdout",
          "output_type": "stream",
          "text": [
            "Правильность poly нa обучающем наборе: 0.21\n",
            "Правильность poly Ha тестовом наборe: 0.12\n",
            "Правильность rbf нa обучающем наборе: 0.44\n",
            "Правильность rbf Ha тестовом наборe: 0.09\n"
          ]
        }
      ],
      "source": [
        "print(\"Правильность poly нa обучающем наборе: {:.2f}\".format(svrpoly.score(X_train, y_train)))\n",
        "print(\"Правильность poly Ha тестовом наборe: {:.2f}\".format(svrpoly.score(X_test, y_test)))\n",
        "print(\"Правильность rbf нa обучающем наборе: {:.2f}\".format(svrrbf.score(X_train, y_train)))\n",
        "print(\"Правильность rbf Ha тестовом наборe: {:.2f}\".format(svrrbf.score(X_test, y_test)))\n",
        "\n",
        "scores.append([\"{:.2f}\".format(svrpoly.score(X_train, y_train)), \"{:.2f}\".format(svrpoly.score(X_test, y_test))])\n",
        "scores.append([\"{:.2f}\".format(svrrbf.score(X_train, y_train)), \"{:.2f}\".format(svrrbf.score(X_test, y_test))])\n",
        "indexes.append(\"svrpoly\")\n",
        "indexes.append(\"svrrbf\")"
      ]
    },
    {
      "cell_type": "code",
      "execution_count": null,
      "id": "ff8a3fca",
      "metadata": {
        "id": "ff8a3fca",
        "outputId": "f5851b54-8181-4b9e-a431-33e9c040e623"
      },
      "outputs": [
        {
          "data": {
            "text/plain": [
              "XGBRegressor(base_score=0.5, booster='gbtree', colsample_bylevel=1,\n",
              "             colsample_bynode=1, colsample_bytree=1, enable_categorical=False,\n",
              "             gamma=0, gpu_id=-1, importance_type=None,\n",
              "             interaction_constraints='', learning_rate=0.01, max_delta_step=0,\n",
              "             max_depth=5, min_child_weight=1, missing=nan,\n",
              "             monotone_constraints='()', n_estimators=1000, n_jobs=8,\n",
              "             num_parallel_tree=1, predictor='auto', random_state=0, reg_alpha=0,\n",
              "             reg_lambda=1, scale_pos_weight=1, subsample=1, tree_method='exact',\n",
              "             validate_parameters=1, verbosity=None)"
            ]
          },
          "execution_count": 35,
          "metadata": {},
          "output_type": "execute_result"
        }
      ],
      "source": [
        "import xgboost as xgb\n",
        "from sklearn.metrics import r2_score\n",
        "xgbr = xgb.XGBRegressor(enable_categorical=False, n_estimators=1000, learning_rate=0.01, max_depth=5)\n",
        "xgbr.fit(X_train, y_train, verbose=True)"
      ]
    },
    {
      "cell_type": "code",
      "execution_count": null,
      "id": "46c0adf5",
      "metadata": {
        "id": "46c0adf5",
        "outputId": "081c4783-dc75-4f9e-ea6c-40a42cc0cacc"
      },
      "outputs": [
        {
          "name": "stdout",
          "output_type": "stream",
          "text": [
            "Правильность нa обучающем наборе: 0.40\n",
            "Правильность Ha тестовом наборe: 0.17\n",
            "Index(['AGE', 'VEHICLE_VAL', 'INCOME'], dtype='object')\n"
          ]
        },
        {
          "data": {
            "text/plain": [
              "array([3096., 3029., 2764.])"
            ]
          },
          "execution_count": 38,
          "metadata": {},
          "output_type": "execute_result"
        }
      ],
      "source": [
        "pred = xgbr.predict(X_train)\n",
        "res1=\"{:.2f}\".format(r2_score(y_train, pred))\n",
        "print(f\"Правильность нa обучающем наборе: {res1}\")\n",
        "pred = xgbr.predict(X_test)\n",
        "res2 = \"{:.2f}\".format(r2_score(y_test, pred))\n",
        "print(f\"Правильность Ha тестовом наборe: {res2}\")\n",
        "\n",
        "scores.append([res1,  res2])\n",
        "indexes.append(\"XGBRegressor\")\n",
        "\n",
        "\n",
        "coef=np.array(list((xgbr.get_booster().get_score(importance_type='weight').values())))\n",
        "ind = np.argsort(np.abs(coef))[::-1][:3]\n",
        "print(X.columns[ind])\n",
        "coef[ind]"
      ]
    },
    {
      "cell_type": "code",
      "execution_count": null,
      "id": "560d2d17",
      "metadata": {
        "id": "560d2d17",
        "outputId": "a4fe1c83-2eb0-412e-8cc1-26990ae91464"
      },
      "outputs": [
        {
          "data": {
            "text/plain": [
              "array(dict_values([803.0, 3096.0, 687.0, 1182.0, 2764.0, 2399.0, 2661.0, 3029.0, 1118.0, 1426.0, 1107.0, 501.0, 86.0, 129.0, 15.0, 87.0, 101.0, 202.0, 141.0, 35.0, 53.0, 250.0, 38.0, 22.0, 60.0, 143.0, 168.0, 398.0, 354.0, 27.0, 117.0, 226.0, 124.0, 89.0, 325.0, 757.0, 223.0, 103.0, 219.0, 89.0, 85.0, 103.0, 72.0, 50.0, 68.0, 143.0]),\n",
              "      dtype=object)"
            ]
          },
          "execution_count": 39,
          "metadata": {},
          "output_type": "execute_result"
        }
      ],
      "source": [
        "np.array(xgbr.get_booster().get_score(importance_type='weight').values())"
      ]
    },
    {
      "cell_type": "code",
      "execution_count": null,
      "id": "bfde382c",
      "metadata": {
        "id": "bfde382c"
      },
      "outputs": [],
      "source": [
        "scoresc = []\n",
        "indexesc = []"
      ]
    },
    {
      "cell_type": "code",
      "execution_count": null,
      "id": "bb3d3386",
      "metadata": {
        "id": "bb3d3386"
      },
      "outputs": [],
      "source": [
        "from sklearn.model_selection import train_test_split\n",
        "\n",
        "X_train, X_test, y_train, y_test = train_test_split(X.to_numpy(), y.iloc[:,1].to_numpy(), test_size=0.33, random_state=42)"
      ]
    },
    {
      "cell_type": "code",
      "execution_count": null,
      "id": "4ac58b34",
      "metadata": {
        "id": "4ac58b34"
      },
      "outputs": [],
      "source": [
        "from sklearn.naive_bayes import GaussianNB\n",
        "gau = GaussianNB().fit(X_train, y_train)"
      ]
    },
    {
      "cell_type": "code",
      "execution_count": null,
      "id": "631aa944",
      "metadata": {
        "id": "631aa944",
        "outputId": "b373ecf4-67a9-434f-a20c-af0a29e77517"
      },
      "outputs": [
        {
          "name": "stdout",
          "output_type": "stream",
          "text": [
            "Правильность нa обучающем наборе: 0.34\n",
            "Правильность Ha тестовом наборe: 0.35\n"
          ]
        }
      ],
      "source": [
        "print(\"Правильность нa обучающем наборе: {:.2f}\".format(gau.score(X_train, y_train)))\n",
        "print(\"Правильность Ha тестовом наборe: {:.2f}\".format(gau.score(X_test, y_test)))\n",
        "\n",
        "scoresc.append([\"{:.2f}\".format(gau.score(X_train, y_train)), \"{:.2f}\".format(gau.score(X_test, y_test))])\n",
        "indexesc.append(\"GaussianNB\")"
      ]
    },
    {
      "cell_type": "code",
      "execution_count": null,
      "id": "72072095",
      "metadata": {
        "id": "72072095"
      },
      "outputs": [],
      "source": [
        "from sklearn.ensemble import RandomForestClassifier\n",
        "rfc = RandomForestClassifier(n_estimators=100).fit(X_train, y_train)"
      ]
    },
    {
      "cell_type": "code",
      "execution_count": null,
      "id": "fabc5568",
      "metadata": {
        "id": "fabc5568",
        "outputId": "90002cef-626f-4f7a-feda-eb90300bc877"
      },
      "outputs": [
        {
          "name": "stdout",
          "output_type": "stream",
          "text": [
            "Правильность нa обучающем наборе: 1.00\n",
            "Правильность Ha тестовом наборe: 0.78\n",
            "Index(['VEHICLE_VAL', 'INCOME', 'HOUSE_VAL'], dtype='object')\n"
          ]
        },
        {
          "data": {
            "text/plain": [
              "array([0.08165559, 0.07823945, 0.07523804])"
            ]
          },
          "execution_count": 46,
          "metadata": {},
          "output_type": "execute_result"
        }
      ],
      "source": [
        "print(\"Правильность нa обучающем наборе: {:.2f}\".format(rfc.score(X_train, y_train)))\n",
        "print(\"Правильность Ha тестовом наборe: {:.2f}\".format(rfc.score(X_test, y_test)))\n",
        "\n",
        "scoresc.append([\"{:.2f}\".format(rfc.score(X_train, y_train)), \"{:.2f}\".format(rfc.score(X_test, y_test))])\n",
        "indexesc.append(\"RandomForestClassifier\")\n",
        "\n",
        "ind = np.argsort(np.abs(rfc.feature_importances_))[::-1][:3]\n",
        "print(X.columns[ind])\n",
        "rfc.feature_importances_[ind]"
      ]
    },
    {
      "cell_type": "code",
      "execution_count": null,
      "id": "e0670529",
      "metadata": {
        "id": "e0670529"
      },
      "outputs": [],
      "source": [
        "from sklearn.svm import SVC\n",
        "svcpoly = SVC(kernel=\"poly\", C=100, gamma=\"auto\", degree=3, coef0=1).fit(X_train, y_train)\n",
        "svcrbf = SVC(kernel=\"rbf\", C=100, gamma=\"auto\").fit(X_train, y_train)"
      ]
    },
    {
      "cell_type": "code",
      "execution_count": null,
      "id": "a5280002",
      "metadata": {
        "id": "a5280002",
        "outputId": "ea410372-1fe5-4751-9831-f37dc5b2a286"
      },
      "outputs": [
        {
          "name": "stdout",
          "output_type": "stream",
          "text": [
            "Правильность poly нa обучающем наборе: 0.90\n",
            "Правильность poly Ha тестовом наборe: 0.75\n",
            "Правильность rbf нa обучающем наборе: 0.91\n",
            "Правильность rbf Ha тестовом наборe: 0.75\n"
          ]
        }
      ],
      "source": [
        "print(\"Правильность poly нa обучающем наборе: {:.2f}\".format(svcpoly.score(X_train, y_train)))\n",
        "print(\"Правильность poly Ha тестовом наборe: {:.2f}\".format(svcpoly.score(X_test, y_test)))\n",
        "print(\"Правильность rbf нa обучающем наборе: {:.2f}\".format(svcrbf.score(X_train, y_train)))\n",
        "print(\"Правильность rbf Ha тестовом наборe: {:.2f}\".format(svcrbf.score(X_test, y_test)))\n",
        "\n",
        "scoresc.append([\"{:.2f}\".format(svcpoly.score(X_train, y_train)), \"{:.2f}\".format(svcpoly.score(X_test, y_test))])\n",
        "scoresc.append([\"{:.2f}\".format(svcrbf.score(X_train, y_train)), \"{:.2f}\".format(svcrbf.score(X_test, y_test))])\n",
        "indexesc.append(\"svcpoly\")\n",
        "indexesc.append(\"svcrbf\")\n"
      ]
    },
    {
      "cell_type": "code",
      "execution_count": null,
      "id": "f642e621",
      "metadata": {
        "id": "f642e621",
        "outputId": "ae0f2b7d-ccd8-4bb4-8ad2-bb2e88e6063f"
      },
      "outputs": [
        {
          "name": "stdout",
          "output_type": "stream",
          "text": [
            "[22:41:42] WARNING: C:/Users/Administrator/workspace/xgboost-win64_release_1.5.1/src/learner.cc:1115: Starting in XGBoost 1.3.0, the default evaluation metric used with the objective 'binary:logistic' was changed from 'error' to 'logloss'. Explicitly set eval_metric if you'd like to restore the old behavior.\n"
          ]
        },
        {
          "data": {
            "text/plain": [
              "XGBClassifier(base_score=0.5, booster='gbtree', colsample_bylevel=1,\n",
              "              colsample_bynode=1, colsample_bytree=1, enable_categorical=False,\n",
              "              gamma=0, gpu_id=-1, importance_type=None,\n",
              "              interaction_constraints='', learning_rate=0.005, max_delta_step=0,\n",
              "              max_depth=6, min_child_weight=1, missing=nan,\n",
              "              monotone_constraints='()', n_estimators=2000, n_jobs=8,\n",
              "              num_parallel_tree=1, predictor='auto', random_state=0,\n",
              "              reg_alpha=0, reg_lambda=1, scale_pos_weight=1, subsample=1,\n",
              "              tree_method='exact', use_label_encoder=False,\n",
              "              validate_parameters=1, verbosity=None)"
            ]
          },
          "execution_count": 49,
          "metadata": {},
          "output_type": "execute_result"
        }
      ],
      "source": [
        "from sklearn.metrics import accuracy_score\n",
        "xgbc = xgb.XGBClassifier(enable_categorical=False, use_label_encoder=False, n_estimators=2000, learning_rate=0.005)\n",
        "xgbc.fit(X_train, y_train, verbose=True)"
      ]
    },
    {
      "cell_type": "code",
      "execution_count": null,
      "id": "c12f4a8a",
      "metadata": {
        "id": "c12f4a8a",
        "outputId": "96c8d0d0-e26e-4eb1-fc5a-978b37ec9005"
      },
      "outputs": [
        {
          "name": "stdout",
          "output_type": "stream",
          "text": [
            "Правильность нa обучающем наборе: 0.89\n",
            "Правильность Ha тестовом наборe: 0.79 \n",
            "Index(['VEHICLE_VAL', 'INCOME', 'HOUSE_VAL'], dtype='object')\n"
          ]
        },
        {
          "data": {
            "text/plain": [
              "array([9806., 9380., 9332.])"
            ]
          },
          "execution_count": 51,
          "metadata": {},
          "output_type": "execute_result"
        }
      ],
      "source": [
        "pred = xgbc.predict(X_train)\n",
        "res1 = \" {:.2f}\".format(accuracy_score(y_train, pred))\n",
        "print(f\"Правильность нa обучающем наборе:{res1}\")\n",
        "pred = xgbc.predict(X_test)\n",
        "res2 = \"{:.2f}\".format(accuracy_score(y_test, pred))\n",
        "print(f\"Правильность Ha тестовом наборe: {res2} \")\n",
        "\n",
        "scoresc.append([res1, res2])\n",
        "indexesc.append(\"XGBClassifier\")\n",
        "\n",
        "\n",
        "coef=np.array(list((xgbc.get_booster().get_score(importance_type='weight').values())))\n",
        "ind = np.argsort(np.abs(coef))[::-1][:3]\n",
        "print(X.columns[ind])\n",
        "coef[ind]"
      ]
    },
    {
      "cell_type": "code",
      "execution_count": null,
      "id": "83ad38f9",
      "metadata": {
        "id": "83ad38f9"
      },
      "outputs": [],
      "source": [
        "RegResult = pd.DataFrame(data=scores, index=indexes, columns=[\"Train\", \"Test\"])"
      ]
    },
    {
      "cell_type": "code",
      "execution_count": null,
      "id": "c941207a",
      "metadata": {
        "id": "c941207a",
        "outputId": "49e43461-9301-4b09-eaad-dea001ce1197"
      },
      "outputs": [
        {
          "data": {
            "text/html": [
              "<div>\n",
              "<style scoped>\n",
              "    .dataframe tbody tr th:only-of-type {\n",
              "        vertical-align: middle;\n",
              "    }\n",
              "\n",
              "    .dataframe tbody tr th {\n",
              "        vertical-align: top;\n",
              "    }\n",
              "\n",
              "    .dataframe thead th {\n",
              "        text-align: right;\n",
              "    }\n",
              "</style>\n",
              "<table border=\"1\" class=\"dataframe\">\n",
              "  <thead>\n",
              "    <tr style=\"text-align: right;\">\n",
              "      <th></th>\n",
              "      <th>Train</th>\n",
              "      <th>Test</th>\n",
              "    </tr>\n",
              "  </thead>\n",
              "  <tbody>\n",
              "    <tr>\n",
              "      <th>Lasso</th>\n",
              "      <td>0.16</td>\n",
              "      <td>0.16</td>\n",
              "    </tr>\n",
              "    <tr>\n",
              "      <th>RandomForestRegressor</th>\n",
              "      <td>0.19</td>\n",
              "      <td>0.15</td>\n",
              "    </tr>\n",
              "    <tr>\n",
              "      <th>svrpoly</th>\n",
              "      <td>0.21</td>\n",
              "      <td>0.12</td>\n",
              "    </tr>\n",
              "    <tr>\n",
              "      <th>svrrbf</th>\n",
              "      <td>0.44</td>\n",
              "      <td>0.09</td>\n",
              "    </tr>\n",
              "    <tr>\n",
              "      <th>XGBRegressor</th>\n",
              "      <td>0.40</td>\n",
              "      <td>0.17</td>\n",
              "    </tr>\n",
              "  </tbody>\n",
              "</table>\n",
              "</div>"
            ],
            "text/plain": [
              "                      Train  Test\n",
              "Lasso                  0.16  0.16\n",
              "RandomForestRegressor  0.19  0.15\n",
              "svrpoly                0.21  0.12\n",
              "svrrbf                 0.44  0.09\n",
              "XGBRegressor           0.40  0.17"
            ]
          },
          "execution_count": 53,
          "metadata": {},
          "output_type": "execute_result"
        }
      ],
      "source": [
        "RegResult"
      ]
    },
    {
      "cell_type": "code",
      "execution_count": null,
      "id": "1167a2d1",
      "metadata": {
        "id": "1167a2d1"
      },
      "outputs": [],
      "source": [
        ""
      ]
    },
    {
      "cell_type": "code",
      "execution_count": null,
      "id": "0b099d55",
      "metadata": {
        "id": "0b099d55"
      },
      "outputs": [],
      "source": [
        "ClsResult = pd.DataFrame(data=scoresc, index=indexesc, columns=[\"Train\", \"Test\"])"
      ]
    },
    {
      "cell_type": "code",
      "execution_count": null,
      "id": "dc071689",
      "metadata": {
        "id": "dc071689",
        "outputId": "8b8b96a1-ca68-4ea6-d9fd-f265aaf611cc"
      },
      "outputs": [
        {
          "data": {
            "text/html": [
              "<div>\n",
              "<style scoped>\n",
              "    .dataframe tbody tr th:only-of-type {\n",
              "        vertical-align: middle;\n",
              "    }\n",
              "\n",
              "    .dataframe tbody tr th {\n",
              "        vertical-align: top;\n",
              "    }\n",
              "\n",
              "    .dataframe thead th {\n",
              "        text-align: right;\n",
              "    }\n",
              "</style>\n",
              "<table border=\"1\" class=\"dataframe\">\n",
              "  <thead>\n",
              "    <tr style=\"text-align: right;\">\n",
              "      <th></th>\n",
              "      <th>Train</th>\n",
              "      <th>Test</th>\n",
              "    </tr>\n",
              "  </thead>\n",
              "  <tbody>\n",
              "    <tr>\n",
              "      <th>GaussianNB</th>\n",
              "      <td>0.34</td>\n",
              "      <td>0.35</td>\n",
              "    </tr>\n",
              "    <tr>\n",
              "      <th>RandomForestClassifier</th>\n",
              "      <td>1.00</td>\n",
              "      <td>0.78</td>\n",
              "    </tr>\n",
              "    <tr>\n",
              "      <th>svcpoly</th>\n",
              "      <td>0.90</td>\n",
              "      <td>0.75</td>\n",
              "    </tr>\n",
              "    <tr>\n",
              "      <th>svcrbf</th>\n",
              "      <td>0.91</td>\n",
              "      <td>0.75</td>\n",
              "    </tr>\n",
              "    <tr>\n",
              "      <th>XGBClassifier</th>\n",
              "      <td>0.89</td>\n",
              "      <td>0.79</td>\n",
              "    </tr>\n",
              "  </tbody>\n",
              "</table>\n",
              "</div>"
            ],
            "text/plain": [
              "                        Train  Test\n",
              "GaussianNB               0.34  0.35\n",
              "RandomForestClassifier   1.00  0.78\n",
              "svcpoly                  0.90  0.75\n",
              "svcrbf                   0.91  0.75\n",
              "XGBClassifier            0.89  0.79"
            ]
          },
          "execution_count": 58,
          "metadata": {},
          "output_type": "execute_result"
        }
      ],
      "source": [
        "ClsResult"
      ]
    },
    {
      "cell_type": "code",
      "execution_count": null,
      "id": "7507df1b",
      "metadata": {
        "id": "7507df1b"
      },
      "outputs": [],
      "source": [
        "df[\"amount\"] = df[['VEHICLE_VAL', 'INCOME', 'HOUSE_VAL']].sum(axis=1)"
      ]
    },
    {
      "cell_type": "code",
      "execution_count": null,
      "id": "0d5e7d51",
      "metadata": {
        "id": "0d5e7d51",
        "outputId": "a6835443-079c-480c-8229-147089c43f7e"
      },
      "outputs": [
        {
          "data": {
            "text/html": [
              "<div>\n",
              "<style scoped>\n",
              "    .dataframe tbody tr th:only-of-type {\n",
              "        vertical-align: middle;\n",
              "    }\n",
              "\n",
              "    .dataframe tbody tr th {\n",
              "        vertical-align: top;\n",
              "    }\n",
              "\n",
              "    .dataframe thead th {\n",
              "        text-align: right;\n",
              "    }\n",
              "</style>\n",
              "<table border=\"1\" class=\"dataframe\">\n",
              "  <thead>\n",
              "    <tr style=\"text-align: right;\">\n",
              "      <th></th>\n",
              "      <th>CLAIM_IND</th>\n",
              "    </tr>\n",
              "    <tr>\n",
              "      <th>amount</th>\n",
              "      <th></th>\n",
              "    </tr>\n",
              "  </thead>\n",
              "  <tbody>\n",
              "    <tr>\n",
              "      <th>(3.629, 221855.78]</th>\n",
              "      <td>0.322330</td>\n",
              "    </tr>\n",
              "    <tr>\n",
              "      <th>(221855.78, 371055.74]</th>\n",
              "      <td>0.279223</td>\n",
              "    </tr>\n",
              "    <tr>\n",
              "      <th>(371055.74, 545855.032]</th>\n",
              "      <td>0.245437</td>\n",
              "    </tr>\n",
              "    <tr>\n",
              "      <th>(545855.032, 1586506.56]</th>\n",
              "      <td>0.219417</td>\n",
              "    </tr>\n",
              "  </tbody>\n",
              "</table>\n",
              "</div>"
            ],
            "text/plain": [
              "                          CLAIM_IND\n",
              "amount                             \n",
              "(3.629, 221855.78]         0.322330\n",
              "(221855.78, 371055.74]     0.279223\n",
              "(371055.74, 545855.032]    0.245437\n",
              "(545855.032, 1586506.56]   0.219417"
            ]
          },
          "execution_count": 62,
          "metadata": {},
          "output_type": "execute_result"
        }
      ],
      "source": [
        "pd.concat([df[\"CLAIM_IND\"], pd.qcut(df[\"amount\"], q=4)], axis=1).groupby(\"amount\").mean()"
      ]
    },
    {
      "cell_type": "code",
      "execution_count": null,
      "id": "410fea47",
      "metadata": {
        "id": "410fea47"
      },
      "outputs": [],
      "source": [
        ""
      ]
    }
  ],
  "metadata": {
    "kernelspec": {
      "display_name": "Python 3",
      "language": "python",
      "name": "python3"
    },
    "language_info": {
      "codemirror_mode": {
        "name": "ipython",
        "version": 3
      },
      "file_extension": ".py",
      "mimetype": "text/x-python",
      "name": "python",
      "nbconvert_exporter": "python",
      "pygments_lexer": "ipython3",
      "version": "3.6.13"
    },
    "colab": {
      "name": "DA2022. Project CLAIM.ipynb",
      "provenance": [],
      "include_colab_link": true
    }
  },
  "nbformat": 4,
  "nbformat_minor": 5
}